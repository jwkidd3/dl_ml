{
 "cells": [
  {
   "cell_type": "markdown",
   "metadata": {
    "id": "dpLm9VUj0aRP"
   },
   "source": [
    "## VGG-16 Based CNN\n",
    "\n",
    "A simple example on how to import and use the VGG16 architecture\n"
   ]
  },
  {
   "cell_type": "code",
   "execution_count": 1,
   "metadata": {
    "id": "pERp4B7T0iKx"
   },
   "outputs": [],
   "source": [
    "import tensorflow as tf\n",
    "from tensorflow.keras.applications import VGG16\n",
    "from tensorflow.keras.layers import Dense, Flatten\n",
    "from tensorflow.keras.models import Model\n",
    "from tensorflow.keras.datasets import cifar10\n",
    "from tensorflow.keras.utils import to_categorical"
   ]
  },
  {
   "cell_type": "code",
   "execution_count": null,
   "metadata": {
    "colab": {
     "base_uri": "https://localhost:8080/"
    },
    "executionInfo": {
     "elapsed": 1902,
     "status": "ok",
     "timestamp": 1704979558090,
     "user": {
      "displayName": "Zawwad Saif",
      "userId": "15857109226109744427"
     },
     "user_tz": -360
    },
    "id": "hHEjUy441a3W",
    "outputId": "cdb12628-78aa-414a-ed0e-f4a77a517bfc"
   },
   "outputs": [
    {
     "name": "stdout",
     "output_type": "stream",
     "text": [
      "Downloading data from https://storage.googleapis.com/tensorflow/keras-applications/vgg16/vgg16_weights_tf_dim_ordering_tf_kernels_notop.h5\n",
      "58889256/58889256 [==============================] - 0s 0us/step\n"
     ]
    }
   ],
   "source": [
    "# Load VGG16 pre-trained model without the fully connected layers\n",
    "vgg16 = VGG16(weights='imagenet', include_top=False, input_shape=(32, 32, 3))"
   ]
  },
  {
   "cell_type": "code",
   "execution_count": null,
   "metadata": {
    "colab": {
     "base_uri": "https://localhost:8080/"
    },
    "executionInfo": {
     "elapsed": 10371,
     "status": "ok",
     "timestamp": 1704979581664,
     "user": {
      "displayName": "Zawwad Saif",
      "userId": "15857109226109744427"
     },
     "user_tz": -360
    },
    "id": "2R6bXI5xQ5p-",
    "outputId": "535caaff-88f1-494c-c621-a3a25786e7e4"
   },
   "outputs": [
    {
     "name": "stdout",
     "output_type": "stream",
     "text": [
      "Downloading data from https://www.cs.toronto.edu/~kriz/cifar-10-python.tar.gz\n",
      "170498071/170498071 [==============================] - 6s 0us/step\n"
     ]
    }
   ],
   "source": [
    "# Load and preprocess CIFAR-10 data\n",
    "(train_images, train_labels), (test_images, test_labels) = cifar10.load_data()\n",
    "train_images = train_images.astype('float32') / 255.0\n",
    "test_images = test_images.astype('float32') / 255.0\n",
    "train_labels = to_categorical(train_labels)\n",
    "test_labels = to_categorical(test_labels)"
   ]
  },
  {
   "cell_type": "code",
   "execution_count": 4,
   "metadata": {
    "colab": {
     "base_uri": "https://localhost:8080/"
    },
    "executionInfo": {
     "elapsed": 32375,
     "status": "ok",
     "timestamp": 1704986080021,
     "user": {
      "displayName": "Zawwad Saif",
      "userId": "15857109226109744427"
     },
     "user_tz": -360
    },
    "id": "XlcmszPN1et6",
    "outputId": "c5d907c5-61aa-444b-ff6b-853b4fd35611"
   },
   "outputs": [
    {
     "name": "stdout",
     "output_type": "stream",
     "text": [
      "Epoch 1/10\n",
      "782/782 [==============================] - 672s 858ms/step - loss: 1.4006 - accuracy: 0.5133 - val_loss: 1.2693 - val_accuracy: 0.5566\n",
      "Epoch 2/10\n",
      "782/782 [==============================] - 666s 852ms/step - loss: 1.2078 - accuracy: 0.5789 - val_loss: 1.2170 - val_accuracy: 0.5740\n",
      "Epoch 3/10\n",
      "782/782 [==============================] - 668s 854ms/step - loss: 1.1540 - accuracy: 0.5988 - val_loss: 1.1958 - val_accuracy: 0.5819\n",
      "Epoch 4/10\n",
      "782/782 [==============================] - 666s 852ms/step - loss: 1.1207 - accuracy: 0.6105 - val_loss: 1.1813 - val_accuracy: 0.5869\n",
      "Epoch 5/10\n",
      "782/782 [==============================] - 627s 802ms/step - loss: 1.0917 - accuracy: 0.6196 - val_loss: 1.1737 - val_accuracy: 0.5864\n",
      "Epoch 6/10\n",
      "782/782 [==============================] - 628s 802ms/step - loss: 1.0665 - accuracy: 0.6278 - val_loss: 1.1555 - val_accuracy: 0.5946\n",
      "Epoch 7/10\n",
      "782/782 [==============================] - 666s 853ms/step - loss: 1.0440 - accuracy: 0.6341 - val_loss: 1.1459 - val_accuracy: 0.5980\n",
      "Epoch 8/10\n",
      "782/782 [==============================] - 654s 837ms/step - loss: 1.0205 - accuracy: 0.6437 - val_loss: 1.1401 - val_accuracy: 0.5977\n",
      "Epoch 9/10\n",
      "782/782 [==============================] - 601s 768ms/step - loss: 1.0009 - accuracy: 0.6497 - val_loss: 1.1302 - val_accuracy: 0.6124\n",
      "Epoch 10/10\n",
      "782/782 [==============================] - 643s 823ms/step - loss: 0.9817 - accuracy: 0.6548 - val_loss: 1.1323 - val_accuracy: 0.6064\n"
     ]
    },
    {
     "data": {
      "text/plain": [
       "<keras.src.callbacks.History at 0x7baed00b19f0>"
      ]
     },
     "execution_count": 4,
     "metadata": {},
     "output_type": "execute_result"
    }
   ],
   "source": [
    "# Freeze the layers of VGG16 (often done on new tasks with limited data)\n",
    "for layer in vgg16.layers:\n",
    "    layer.trainable = False\n",
    "\n",
    "# Add custom layers\n",
    "x = Flatten()(vgg16.output)\n",
    "x = Dense(128, activation='relu')(x)\n",
    "predictions = Dense(10, activation='softmax')(x)\n",
    "\n",
    "# Create the model\n",
    "model = Model(inputs=vgg16.input, outputs=predictions)\n",
    "model.compile(optimizer='adam', loss='categorical_crossentropy', metrics=['accuracy'])\n",
    "\n",
    "# Train the model\n",
    "model.fit(train_images, train_labels, batch_size=64, epochs=10, validation_data=(test_images, test_labels))"
   ]
  },
  {
   "cell_type": "markdown",
   "metadata": {
    "id": "QdVctEjwT3vN"
   },
   "source": [
    "## ResNet-50 based CNN\n",
    "\n",
    "The same thing but using ResNet-50"
   ]
  },
  {
   "cell_type": "code",
   "execution_count": null,
   "metadata": {
    "colab": {
     "base_uri": "https://localhost:8080/"
    },
    "executionInfo": {
     "elapsed": 414957,
     "status": "ok",
     "timestamp": 1701860345874,
     "user": {
      "displayName": "Emon Sarker",
      "userId": "03285385557850436992"
     },
     "user_tz": -360
    },
    "id": "X_ue-hvGT89a",
    "outputId": "bc7ae5f0-2dff-4766-ddaa-4bcd684a626f"
   },
   "outputs": [
    {
     "name": "stdout",
     "output_type": "stream",
     "text": [
      "Downloading data from https://storage.googleapis.com/tensorflow/keras-applications/resnet/resnet50_weights_tf_dim_ordering_tf_kernels_notop.h5\n",
      "94765736/94765736 [==============================] - 4s 0us/step\n",
      "Epoch 1/10\n",
      "782/782 [==============================] - 228s 287ms/step - loss: 2.0811 - accuracy: 0.2383 - val_loss: 1.9123 - val_accuracy: 0.3129\n",
      "Epoch 2/10\n",
      "782/782 [==============================] - 216s 276ms/step - loss: 1.8943 - accuracy: 0.3143 - val_loss: 1.8623 - val_accuracy: 0.3182\n",
      "Epoch 3/10\n",
      "782/782 [==============================] - 225s 288ms/step - loss: 1.8344 - accuracy: 0.3351 - val_loss: 1.8090 - val_accuracy: 0.3470\n",
      "Epoch 4/10\n",
      "782/782 [==============================] - 216s 276ms/step - loss: 1.7907 - accuracy: 0.3562 - val_loss: 1.8214 - val_accuracy: 0.3399\n",
      "Epoch 5/10\n",
      "782/782 [==============================] - 222s 284ms/step - loss: 1.7693 - accuracy: 0.3619 - val_loss: 1.7290 - val_accuracy: 0.3896\n",
      "Epoch 6/10\n",
      "782/782 [==============================] - 225s 287ms/step - loss: 1.7453 - accuracy: 0.3724 - val_loss: 1.6945 - val_accuracy: 0.3968\n",
      "Epoch 7/10\n",
      "782/782 [==============================] - 208s 267ms/step - loss: 1.7269 - accuracy: 0.3792 - val_loss: 1.7249 - val_accuracy: 0.3806\n",
      "Epoch 8/10\n",
      "782/782 [==============================] - 212s 271ms/step - loss: 1.7191 - accuracy: 0.3853 - val_loss: 1.7266 - val_accuracy: 0.3861\n",
      "Epoch 9/10\n",
      "782/782 [==============================] - 215s 275ms/step - loss: 1.7071 - accuracy: 0.3890 - val_loss: 1.7070 - val_accuracy: 0.3955\n",
      "Epoch 10/10\n",
      "782/782 [==============================] - 215s 275ms/step - loss: 1.6946 - accuracy: 0.3926 - val_loss: 1.7186 - val_accuracy: 0.3792\n"
     ]
    },
    {
     "data": {
      "text/plain": [
       "<keras.src.callbacks.History at 0x7c8109b65480>"
      ]
     },
     "execution_count": 6,
     "metadata": {},
     "output_type": "execute_result"
    }
   ],
   "source": [
    "from tensorflow.keras.applications import ResNet50\n",
    "\n",
    "# Load ResNet50 pre-trained\n",
    "resnet50 = ResNet50(weights='imagenet', include_top=False, input_shape=(32, 32, 3))\n",
    "\n",
    "# Freeze the layers of ResNet50\n",
    "for layer in resnet50.layers:\n",
    "    layer.trainable = False\n",
    "\n",
    "# Add layers\n",
    "x = Flatten()(resnet50.output)\n",
    "x = Dense(128, activation='relu')(x)\n",
    "predictions = Dense(10, activation='softmax')(x)\n",
    "\n",
    "# Create the model\n",
    "model = Model(inputs=resnet50.input, outputs=predictions)\n",
    "model.compile(optimizer='adam', loss='categorical_crossentropy', metrics=['accuracy'])\n",
    "\n",
    "# Train the model\n",
    "model.fit(train_images, train_labels, batch_size=64, epochs=10, validation_data=(test_images, test_labels))\n"
   ]
  }
 ],
 "metadata": {
  "colab": {
   "provenance": []
  },
  "kernelspec": {
   "display_name": "Python 3 (ipykernel)",
   "language": "python",
   "name": "python3"
  },
  "language_info": {
   "codemirror_mode": {
    "name": "ipython",
    "version": 3
   },
   "file_extension": ".py",
   "mimetype": "text/x-python",
   "name": "python",
   "nbconvert_exporter": "python",
   "pygments_lexer": "ipython3",
   "version": "3.11.9"
  }
 },
 "nbformat": 4,
 "nbformat_minor": 1
}
