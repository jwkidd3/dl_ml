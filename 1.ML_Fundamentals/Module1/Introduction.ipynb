{
  "nbformat": 4,
  "nbformat_minor": 0,
  "metadata": {
    "colab": {
      "provenance": []
    },
    "kernelspec": {
      "name": "python3",
      "display_name": "Python 3"
    },
    "language_info": {
      "name": "python"
    }
  },
  "cells": [
    {
      "cell_type": "markdown",
      "source": [
        "# Numpy\n",
        "\n",
        "- NumPy, short for \"Numerical Python,\" is a fundamental package for numerical computations in Python.\n",
        "- It provides support for arrays, matrices, and various mathematical operations, making it a powerful tool for scientific computing.\n",
        "\n",
        "\n",
        "NumPy Official Documentation: https://numpy.org/doc/stable/\n",
        "\n",
        "NumPy Quickstart Tutorial: https://numpy.org/doc/stable/user/quickstart.html\n",
        "\n",
        "\n",
        "---"
      ],
      "metadata": {
        "id": "zZZH7FldbZMl"
      }
    },
    {
      "cell_type": "markdown",
      "source": [
        "To use NumPy, you need to install it. Open your terminal or command prompt and enter the following command:"
      ],
      "metadata": {
        "id": "Pi6jmN1vcaTU"
      }
    },
    {
      "cell_type": "code",
      "execution_count": 1,
      "metadata": {
        "colab": {
          "base_uri": "https://localhost:8080/"
        },
        "id": "0g3qiChSbWSo",
        "outputId": "b5bb7cbe-255a-49ed-8391-64952699c772"
      },
      "outputs": [
        {
          "output_type": "stream",
          "name": "stdout",
          "text": [
            "Requirement already satisfied: numpy in /usr/local/lib/python3.10/dist-packages (1.23.5)\n"
          ]
        }
      ],
      "source": [
        "!pip install numpy"
      ]
    },
    {
      "cell_type": "markdown",
      "source": [
        "In Python, you import the NumPy library using the **import** statement:"
      ],
      "metadata": {
        "id": "_mZBw25-ceih"
      }
    },
    {
      "cell_type": "code",
      "source": [
        "import numpy as np"
      ],
      "metadata": {
        "id": "nLS0uXobciD6"
      },
      "execution_count": 2,
      "outputs": []
    },
    {
      "cell_type": "markdown",
      "source": [
        "### Creating Arrays\n",
        "- The core data structure in NumPy is the ndarray (n-dimensional array).\n",
        "- Arrays can be created from lists or tuples using the np.array() function."
      ],
      "metadata": {
        "id": "gi_I4pjUckv-"
      }
    },
    {
      "cell_type": "code",
      "source": [
        "# Create a 1D array\n",
        "arr_1d = np.array([1, 2, 3, 4, 5])\n",
        "print(arr_1d)\n",
        "\n",
        "# Create a 2D array (matrix)\n",
        "arr_2d = np.array([[1, 2, 3], [4, 5, 6]])\n",
        "print(arr_2d)"
      ],
      "metadata": {
        "colab": {
          "base_uri": "https://localhost:8080/"
        },
        "id": "qCDH5yq9ckZk",
        "outputId": "77bed977-f107-410f-85f2-7d991e408c99"
      },
      "execution_count": 3,
      "outputs": [
        {
          "output_type": "stream",
          "name": "stdout",
          "text": [
            "[1 2 3 4 5]\n",
            "[[1 2 3]\n",
            " [4 5 6]]\n"
          ]
        }
      ]
    },
    {
      "cell_type": "markdown",
      "source": [
        "### Array Properties\n",
        "\n",
        "- Arrays have attributes like shape, size, and dimensions.\n",
        "- Access these attributes using the dot notation."
      ],
      "metadata": {
        "id": "Wn5cZJd7c2Oy"
      }
    },
    {
      "cell_type": "code",
      "source": [
        "arr = np.array([[1, 2, 3], [4, 5, 6]])\n",
        "print(\"Shape:\", arr.shape)  # Shape of the array\n",
        "print(\"Size:\", arr.size)    # Number of elements\n",
        "print(\"Dimensions:\", arr.ndim)  # Number of dimensions"
      ],
      "metadata": {
        "colab": {
          "base_uri": "https://localhost:8080/"
        },
        "id": "PMDbIymvc7Zs",
        "outputId": "c1fa4884-db8d-4b60-b178-a9c92e9968f1"
      },
      "execution_count": 4,
      "outputs": [
        {
          "output_type": "stream",
          "name": "stdout",
          "text": [
            "Shape: (2, 3)\n",
            "Size: 6\n",
            "Dimensions: 2\n"
          ]
        }
      ]
    },
    {
      "cell_type": "markdown",
      "source": [
        "### Array Operations\n",
        "\n",
        "- NumPy supports element-wise operations.\n",
        "- Mathematical operations can be performed directly on arrays."
      ],
      "metadata": {
        "id": "j7Nxt6irdEBB"
      }
    },
    {
      "cell_type": "code",
      "source": [
        "arr1 = np.array([1, 2, 3])\n",
        "arr2 = np.array([4, 5, 6])\n",
        "\n",
        "# Element-wise addition\n",
        "result = arr1 + arr2\n",
        "print(\"Result:\", result)\n",
        "\n",
        "# Element-wise multiplication\n",
        "result = arr1 * arr2\n",
        "print(\"Result:\", result)"
      ],
      "metadata": {
        "colab": {
          "base_uri": "https://localhost:8080/"
        },
        "id": "9vLhXAFcdJm8",
        "outputId": "aa255222-2a56-46f2-ff5f-f7a83bf8f6f5"
      },
      "execution_count": 5,
      "outputs": [
        {
          "output_type": "stream",
          "name": "stdout",
          "text": [
            "Result: [5 7 9]\n",
            "Result: [ 4 10 18]\n"
          ]
        }
      ]
    },
    {
      "cell_type": "markdown",
      "source": [
        "### Universal Functions (ufuncs)\n",
        "\n",
        "- NumPy provides many universal functions for common mathematical operations.\n",
        "- They operate element-wise on arrays and produce arrays as output.\n"
      ],
      "metadata": {
        "id": "1eY6RU_5dNfB"
      }
    },
    {
      "cell_type": "code",
      "source": [
        "arr = np.array([1, 2, 3])\n",
        "\n",
        "# Square root\n",
        "sqrt_arr = np.sqrt(arr)\n",
        "print(\"Square Root:\", sqrt_arr)\n",
        "\n",
        "# Exponential\n",
        "exp_arr = np.exp(arr)\n",
        "print(\"Exponential:\", exp_arr)"
      ],
      "metadata": {
        "colab": {
          "base_uri": "https://localhost:8080/"
        },
        "id": "f1MRxiVPdju0",
        "outputId": "2fd6c45d-1b0e-4e6b-dabc-857198fdd686"
      },
      "execution_count": 6,
      "outputs": [
        {
          "output_type": "stream",
          "name": "stdout",
          "text": [
            "Square Root: [1.         1.41421356 1.73205081]\n",
            "Exponential: [ 2.71828183  7.3890561  20.08553692]\n"
          ]
        }
      ]
    },
    {
      "cell_type": "markdown",
      "source": [
        "### Array Indexing and Slicing\n",
        "\n",
        "- You can access elements of an array using indexing and slicing.\n",
        "- Remember that indexing starts from 0.\n"
      ],
      "metadata": {
        "id": "oFN7ZLV6dlvB"
      }
    },
    {
      "cell_type": "code",
      "source": [
        "arr = np.array([10, 20, 30, 40, 50])\n",
        "\n",
        "# Accessing individual elements\n",
        "print(\"Element at index 2:\", arr[2])\n",
        "\n",
        "# Slicing to get a range of elements\n",
        "print(\"Sliced array:\", arr[1:4])  # Elements from index 1 to 3"
      ],
      "metadata": {
        "colab": {
          "base_uri": "https://localhost:8080/"
        },
        "id": "BIJ9cFSndq0P",
        "outputId": "72ef50ef-73fc-4902-f858-0c3d9f5cf868"
      },
      "execution_count": 7,
      "outputs": [
        {
          "output_type": "stream",
          "name": "stdout",
          "text": [
            "Element at index 2: 30\n",
            "Sliced array: [20 30 40]\n"
          ]
        }
      ]
    },
    {
      "cell_type": "markdown",
      "source": [
        "# Pandas\n",
        "\n",
        "- Pandas is a powerful library for data manipulation and analysis in Python.\n",
        "- It provides tools to work with structured data like tables, making it essential for data preprocessing and analysis.\n",
        "- Offers data structures (Series and DataFrame) to handle tabular data efficiently.\n",
        "\n",
        "Pandas Official Documentation: https://pandas.pydata.org/docs/\n",
        "\n",
        "Pandas Tutorials: https://pandas.pydata.org/docs/getting_started/intro_tutorials/index.html\n",
        "\n",
        "\n",
        "---"
      ],
      "metadata": {
        "id": "nN-uv_wQeGpk"
      }
    },
    {
      "cell_type": "markdown",
      "source": [
        "To use Pandas, install it and import as with the following"
      ],
      "metadata": {
        "id": "6fa62xaWeV-n"
      }
    },
    {
      "cell_type": "code",
      "source": [
        "!pip install pandas"
      ],
      "metadata": {
        "colab": {
          "base_uri": "https://localhost:8080/"
        },
        "id": "tHz6mC6seUCV",
        "outputId": "5e2cf183-0b07-4b6a-8c76-283f17a3dfc5"
      },
      "execution_count": 8,
      "outputs": [
        {
          "output_type": "stream",
          "name": "stdout",
          "text": [
            "Requirement already satisfied: pandas in /usr/local/lib/python3.10/dist-packages (1.5.3)\n",
            "Requirement already satisfied: python-dateutil>=2.8.1 in /usr/local/lib/python3.10/dist-packages (from pandas) (2.8.2)\n",
            "Requirement already satisfied: pytz>=2020.1 in /usr/local/lib/python3.10/dist-packages (from pandas) (2023.3)\n",
            "Requirement already satisfied: numpy>=1.21.0 in /usr/local/lib/python3.10/dist-packages (from pandas) (1.23.5)\n",
            "Requirement already satisfied: six>=1.5 in /usr/local/lib/python3.10/dist-packages (from python-dateutil>=2.8.1->pandas) (1.16.0)\n"
          ]
        }
      ]
    },
    {
      "cell_type": "code",
      "source": [
        "import pandas as pd"
      ],
      "metadata": {
        "id": "Vufy57eoeg0T"
      },
      "execution_count": 9,
      "outputs": []
    },
    {
      "cell_type": "markdown",
      "source": [
        "### Series - One-Dimensional Data\n",
        "\n",
        "- A Series is a one-dimensional array-like object containing data and an associated index.\n",
        "- Created using the pd.Series() function.\n"
      ],
      "metadata": {
        "id": "uxTeQPoHeikQ"
      }
    },
    {
      "cell_type": "code",
      "source": [
        "# Create a Series\n",
        "data = [10, 20, 30, 40, 50]\n",
        "series = pd.Series(data)\n",
        "print(series)"
      ],
      "metadata": {
        "colab": {
          "base_uri": "https://localhost:8080/"
        },
        "id": "DmCEmJ6KerCr",
        "outputId": "0c2dc675-e2ac-4f58-c948-e4268072a9e2"
      },
      "execution_count": 10,
      "outputs": [
        {
          "output_type": "stream",
          "name": "stdout",
          "text": [
            "0    10\n",
            "1    20\n",
            "2    30\n",
            "3    40\n",
            "4    50\n",
            "dtype: int64\n"
          ]
        }
      ]
    },
    {
      "cell_type": "markdown",
      "source": [
        "### DataFrame - Two-Dimensional Data\n",
        "\n",
        "- A DataFrame is a 2D labeled data structure with columns that can hold different data types.\n",
        "- Created using the pd.DataFrame() function.\n"
      ],
      "metadata": {
        "id": "K3XlXLkseszE"
      }
    },
    {
      "cell_type": "code",
      "source": [
        "# Create a DataFrame\n",
        "data = {'Name': ['Alice', 'Bob', 'Charlie'],\n",
        "        'Age': [25, 30, 22]}\n",
        "data = pd.DataFrame(data)\n",
        "print(data)"
      ],
      "metadata": {
        "colab": {
          "base_uri": "https://localhost:8080/"
        },
        "id": "3MMGFEhXe0Sl",
        "outputId": "bcdb28cb-eb83-478f-c9ea-cd19ccf7dd04"
      },
      "execution_count": 15,
      "outputs": [
        {
          "output_type": "stream",
          "name": "stdout",
          "text": [
            "      Name  Age\n",
            "0    Alice   25\n",
            "1      Bob   30\n",
            "2  Charlie   22\n"
          ]
        }
      ]
    },
    {
      "cell_type": "markdown",
      "source": [
        "### Reading Data\n",
        "\n",
        "- Pandas can read data from various file formats using functions like pd.read_csv(), pd.read_excel(), and more.\n",
        "\n",
        "- *** MAKE SURE TO HAVE A FILE IN THE DIRECTORY FIRST ***"
      ],
      "metadata": {
        "id": "nOp1tZvBe3Vc"
      }
    },
    {
      "cell_type": "code",
      "source": [
        "# Read data from a CSV file\n",
        "data = pd.read_csv('data.csv')"
      ],
      "metadata": {
        "id": "_oX8T970fK9S"
      },
      "execution_count": null,
      "outputs": []
    },
    {
      "cell_type": "markdown",
      "source": [
        "### Data Exploration\n",
        "\n",
        "- Pandas provides methods to explore and summarize data.\n"
      ],
      "metadata": {
        "id": "EeOFitCWghq8"
      }
    },
    {
      "cell_type": "code",
      "source": [
        "# Display the first few rows\n",
        "print(data.head())\n",
        "\n",
        "# Display basic statistics\n",
        "print(data.describe())\n",
        "\n",
        "# Count unique values in a column\n",
        "print(data['Name'].value_counts())"
      ],
      "metadata": {
        "colab": {
          "base_uri": "https://localhost:8080/"
        },
        "id": "4lHuaCg2ghUf",
        "outputId": "d537ef51-85dc-4349-ceba-00c6339261ab"
      },
      "execution_count": 17,
      "outputs": [
        {
          "output_type": "stream",
          "name": "stdout",
          "text": [
            "      Name  Age\n",
            "0    Alice   25\n",
            "1      Bob   30\n",
            "2  Charlie   22\n",
            "             Age\n",
            "count   3.000000\n",
            "mean   25.666667\n",
            "std     4.041452\n",
            "min    22.000000\n",
            "25%    23.500000\n",
            "50%    25.000000\n",
            "75%    27.500000\n",
            "max    30.000000\n",
            "Alice      1\n",
            "Bob        1\n",
            "Charlie    1\n",
            "Name: Name, dtype: int64\n"
          ]
        }
      ]
    },
    {
      "cell_type": "markdown",
      "source": [
        "### Data Selection and Filtering\n",
        "\n",
        "- You can select columns, filter rows, and perform conditional operations on data."
      ],
      "metadata": {
        "id": "VQwTiL54gmgx"
      }
    },
    {
      "cell_type": "code",
      "source": [
        "# Select a specific column\n",
        "column = data['Age']\n",
        "print(column)\n",
        "\n",
        "# Filter rows based on a condition\n",
        "filtered_data = data[data['Age'] > 25]\n",
        "print(\"People older than 25 \\n\", filtered_data)"
      ],
      "metadata": {
        "colab": {
          "base_uri": "https://localhost:8080/"
        },
        "id": "CSZrQ62VZrxz",
        "outputId": "70f13613-6d13-48f0-d5d4-991b03ea00b7"
      },
      "execution_count": 21,
      "outputs": [
        {
          "output_type": "stream",
          "name": "stdout",
          "text": [
            "0    25\n",
            "1    30\n",
            "2    22\n",
            "Name: Age, dtype: int64\n",
            "People older than 25 \n",
            "   Name  Age\n",
            "1  Bob   30\n"
          ]
        }
      ]
    },
    {
      "cell_type": "markdown",
      "source": [
        "# Scikit-Learn\n",
        "\n",
        "- Scikit-Learn simplifies the process of implementing machine learning algorithms.\n",
        "- Offers a consistent API for various algorithms and tasks.\n",
        "- Provides tools for data preprocessing, feature selection, and model evaluation.\n",
        "\n",
        "---\n",
        "\n",
        "Install and import scikit-learn"
      ],
      "metadata": {
        "id": "kTpv_k8MaIKm"
      }
    },
    {
      "cell_type": "code",
      "source": [
        "! pip install scikit-learn"
      ],
      "metadata": {
        "colab": {
          "base_uri": "https://localhost:8080/"
        },
        "id": "1ECmKJ4UaYeU",
        "outputId": "3dbbf32b-0c9e-4367-bf2b-98b4de1a2554"
      },
      "execution_count": 22,
      "outputs": [
        {
          "output_type": "stream",
          "name": "stdout",
          "text": [
            "Requirement already satisfied: scikit-learn in /usr/local/lib/python3.10/dist-packages (1.2.2)\n",
            "Requirement already satisfied: numpy>=1.17.3 in /usr/local/lib/python3.10/dist-packages (from scikit-learn) (1.23.5)\n",
            "Requirement already satisfied: scipy>=1.3.2 in /usr/local/lib/python3.10/dist-packages (from scikit-learn) (1.10.1)\n",
            "Requirement already satisfied: joblib>=1.1.1 in /usr/local/lib/python3.10/dist-packages (from scikit-learn) (1.3.2)\n",
            "Requirement already satisfied: threadpoolctl>=2.0.0 in /usr/local/lib/python3.10/dist-packages (from scikit-learn) (3.2.0)\n"
          ]
        }
      ]
    },
    {
      "cell_type": "code",
      "source": [
        "import sklearn"
      ],
      "metadata": {
        "id": "2xwaoSh2aaVM"
      },
      "execution_count": 23,
      "outputs": []
    },
    {
      "cell_type": "markdown",
      "source": [
        "## The Scikit-Learn Workflow\n",
        "\n",
        "- Scikit-Learn follows a consistent workflow for machine learning tasks.\n",
        "- Split your data into features (X) and target (y).\n",
        "- Import a model class, create an instance, and train it.\n",
        "- Make predictions and evaluate the model's performance.\n"
      ],
      "metadata": {
        "id": "KtH1UiIJaeIa"
      }
    },
    {
      "cell_type": "markdown",
      "source": [
        "### Classification Example"
      ],
      "metadata": {
        "id": "vFJ1v2HaalmC"
      }
    },
    {
      "cell_type": "code",
      "source": [
        "from sklearn.datasets import load_iris\n",
        "from sklearn.model_selection import train_test_split\n",
        "from sklearn.neighbors import KNeighborsClassifier\n",
        "from sklearn.metrics import accuracy_score\n",
        "\n",
        "# Load the Iris dataset\n",
        "data = load_iris()\n",
        "X = data.data\n",
        "y = data.target\n",
        "\n",
        "# Split the data into training and testing sets\n",
        "X_train, X_test, y_train, y_test = train_test_split(X, y, test_size=0.2, random_state=42)\n",
        "\n",
        "# Create a k-nearest neighbors classifier\n",
        "clf = KNeighborsClassifier(n_neighbors=3)\n",
        "\n",
        "# Train the classifier\n",
        "clf.fit(X_train, y_train)\n",
        "\n",
        "# Make predictions\n",
        "y_pred = clf.predict(X_test)\n",
        "\n",
        "# Evaluate accuracy\n",
        "accuracy = accuracy_score(y_test, y_pred)\n",
        "print(\"Accuracy:\", accuracy)"
      ],
      "metadata": {
        "colab": {
          "base_uri": "https://localhost:8080/"
        },
        "id": "WndXCUIhalJb",
        "outputId": "2211c68d-3f2e-474e-ef1e-fef147c713f8"
      },
      "execution_count": 24,
      "outputs": [
        {
          "output_type": "stream",
          "name": "stdout",
          "text": [
            "Accuracy: 1.0\n"
          ]
        }
      ]
    },
    {
      "cell_type": "markdown",
      "source": [
        "### Regression Example"
      ],
      "metadata": {
        "id": "Hi_7Fe9fatx_"
      }
    },
    {
      "cell_type": "code",
      "source": [
        "from sklearn.datasets import load_diabetes\n",
        "from sklearn.model_selection import train_test_split\n",
        "from sklearn.linear_model import LinearRegression\n",
        "from sklearn.metrics import mean_squared_error\n",
        "\n",
        "# Load the Diabetes dataset\n",
        "data = load_diabetes()\n",
        "X = data.data\n",
        "y = data.target\n",
        "\n",
        "# Split the data into training and testing sets\n",
        "X_train, X_test, y_train, y_test = train_test_split(X, y, test_size=0.2, random_state=42)\n",
        "\n",
        "# Create a linear regression model\n",
        "reg = LinearRegression()\n",
        "\n",
        "# Train the model\n",
        "reg.fit(X_train, y_train)\n",
        "\n",
        "# Make predictions\n",
        "y_pred = reg.predict(X_test)\n",
        "\n",
        "# Evaluate mean squared error\n",
        "mse = mean_squared_error(y_test, y_pred)\n",
        "print(\"Mean Squared Error:\", mse)\n"
      ],
      "metadata": {
        "colab": {
          "base_uri": "https://localhost:8080/"
        },
        "id": "-DIv5lE6awDW",
        "outputId": "ebeb46d2-9aaf-4832-da82-0a70bd3c95a1"
      },
      "execution_count": 26,
      "outputs": [
        {
          "output_type": "stream",
          "name": "stdout",
          "text": [
            "Mean Squared Error: 2900.193628493482\n"
          ]
        }
      ]
    }
  ]
}