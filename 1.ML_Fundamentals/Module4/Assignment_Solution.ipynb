{
  "nbformat": 4,
  "nbformat_minor": 0,
  "metadata": {
    "colab": {
      "provenance": []
    },
    "kernelspec": {
      "name": "python3",
      "display_name": "Python 3"
    },
    "language_info": {
      "name": "python"
    }
  },
  "cells": [
    {
      "cell_type": "markdown",
      "source": [
        "# Assignment 1: Classification on Wine Dataset\n"
      ],
      "metadata": {
        "id": "0ajWMdsaF5Ou"
      }
    },
    {
      "cell_type": "code",
      "source": [
        "import numpy as np\n",
        "from sklearn.datasets import load_wine\n",
        "from sklearn.model_selection import train_test_split\n",
        "from sklearn.linear_model import LogisticRegression\n",
        "from sklearn.tree import DecisionTreeClassifier\n",
        "from sklearn.ensemble import RandomForestClassifier\n",
        "from sklearn.metrics import accuracy_score\n",
        "\n",
        "# Load Wine dataset\n",
        "wine = load_wine()\n",
        "X, y = wine.data, wine.target\n",
        "\n",
        "# Split data into training and testing sets (80-20 split)\n",
        "X_train, X_test, y_train, y_test = train_test_split(X, y, test_size=0.2, random_state=42)\n",
        "\n",
        "# Logistic Regression\n",
        "lr = LogisticRegression(max_iter=10000, random_state=42)\n",
        "lr.fit(X_train, y_train)\n",
        "lr_preds = lr.predict(X_test)\n",
        "lr_accuracy = accuracy_score(y_test, lr_preds)\n",
        "print(f\"Logistic Regression Accuracy: {lr_accuracy:.4f}\")\n",
        "\n",
        "# Decision Tree\n",
        "dt = DecisionTreeClassifier(random_state=42)\n",
        "dt.fit(X_train, y_train)\n",
        "dt_preds = dt.predict(X_test)\n",
        "dt_accuracy = accuracy_score(y_test, dt_preds)\n",
        "print(f\"Decision Tree Accuracy: {dt_accuracy:.4f}\")\n",
        "\n",
        "# Random Forest\n",
        "rf = RandomForestClassifier(random_state=42)\n",
        "rf.fit(X_train, y_train)\n",
        "rf_preds = rf.predict(X_test)\n",
        "rf_accuracy = accuracy_score(y_test, rf_preds)\n",
        "print(f\"Random Forest Accuracy: {rf_accuracy:.4f}\")\n",
        "\n",
        "# Conclusion\n",
        "accuracies = {\"Logistic Regression\": lr_accuracy, \"Decision Tree\": dt_accuracy, \"Random Forest\": rf_accuracy}\n",
        "best_model = max(accuracies, key=accuracies.get)\n",
        "print(f\"\\nThe best model for the Wine dataset is {best_model} with an accuracy of {accuracies[best_model]:.4f}.\")\n"
      ],
      "metadata": {
        "colab": {
          "base_uri": "https://localhost:8080/"
        },
        "id": "HutgKKL4GBqq",
        "outputId": "32166009-c4a7-40dd-f26f-74b8eb9a8ccb"
      },
      "execution_count": 18,
      "outputs": [
        {
          "output_type": "stream",
          "name": "stdout",
          "text": [
            "Logistic Regression Accuracy: 1.0000\n",
            "Decision Tree Accuracy: 0.9444\n",
            "Random Forest Accuracy: 1.0000\n",
            "\n",
            "The best model for the Wine dataset is Logistic Regression with an accuracy of 1.0000.\n"
          ]
        }
      ]
    },
    {
      "cell_type": "markdown",
      "source": [
        "# Assignment 2: Advanced Classification with Hyperparameter Tuning and SVM\n"
      ],
      "metadata": {
        "id": "-3v6ia1uGDma"
      }
    },
    {
      "cell_type": "code",
      "source": [
        "from sklearn.datasets import load_breast_cancer\n",
        "from sklearn.model_selection import train_test_split, GridSearchCV\n",
        "from sklearn.preprocessing import StandardScaler\n",
        "from sklearn.ensemble import RandomForestClassifier\n",
        "from sklearn.svm import SVC\n",
        "\n",
        "# Load Breast Cancer dataset\n",
        "cancer = load_breast_cancer()\n",
        "X, y = cancer.data, cancer.target\n",
        "\n",
        "# Preprocess and standardize data\n",
        "scaler = StandardScaler()\n",
        "X_scaled = scaler.fit_transform(X)\n",
        "\n",
        "# Split data into training, validation, and testing sets (60-20-20)\n",
        "X_temp, X_test, y_temp, y_test = train_test_split(X_scaled, y, test_size=0.2, random_state=42)\n",
        "X_train, X_val, y_train, y_val = train_test_split(X_temp, y_temp, test_size=0.25, random_state=42)  # 0.25 x 0.8 = 0.2\n",
        "\n",
        "# Random Forest with hyperparameter tuning\n",
        "param_grid_rf = {'n_estimators': [10, 50, 100, 150], 'max_depth': [None, 10, 20, 30], 'random_state': [42]}\n",
        "grid_rf = GridSearchCV(RandomForestClassifier(), param_grid_rf, cv=5)\n",
        "grid_rf.fit(X_train, y_train)\n",
        "best_rf = grid_rf.best_estimator_\n",
        "print(\"Best RF Params:\", grid_rf.best_params_)\n",
        "\n",
        "# Predict and evaluate RF\n",
        "rf_preds = best_rf.predict(X_test)\n",
        "rf_accuracy = accuracy_score(y_test, rf_preds)\n",
        "print(f\"Optimized Random Forest Accuracy: {rf_accuracy:.4f}\")\n",
        "\n",
        "# SVM with hyperparameter tuning\n",
        "param_grid_svm = {'C': [0.1, 1, 10, 100], 'gamma': [1, 0.1, 0.01, 0.001], 'kernel': ['rbf'], 'random_state': [42]}\n",
        "grid_svm = GridSearchCV(SVC(), param_grid_svm, cv=5)\n",
        "grid_svm.fit(X_train, y_train)\n",
        "best_svm = grid_svm.best_estimator_\n",
        "print(\"\\nBest SVM Params:\", grid_svm.best_params_)\n",
        "\n",
        "# Predict and evaluate SVM\n",
        "svm_preds = best_svm.predict(X_test)\n",
        "svm_accuracy = accuracy_score(y_test, svm_preds)\n",
        "print(f\"Optimized SVM Accuracy: {svm_accuracy:.4f}\")\n",
        "\n",
        "# Conclusion\n",
        "accuracies = {\"Optimized Random Forest\": rf_accuracy, \"Optimized SVM\": svm_accuracy}\n",
        "best_model = max(accuracies, key=accuracies.get)\n",
        "print(f\"\\nThe best model for the Breast Cancer dataset is {best_model} with an accuracy of {accuracies[best_model]:.4f}.\")"
      ],
      "metadata": {
        "colab": {
          "base_uri": "https://localhost:8080/"
        },
        "id": "6QqaWLkjGHGl",
        "outputId": "ab3ef4c1-961d-43b8-91a4-7d1abcb010ce"
      },
      "execution_count": 19,
      "outputs": [
        {
          "output_type": "stream",
          "name": "stdout",
          "text": [
            "Best RF Params: {'max_depth': None, 'n_estimators': 100, 'random_state': 42}\n",
            "Optimized Random Forest Accuracy: 0.9561\n",
            "\n",
            "Best SVM Params: {'C': 10, 'gamma': 0.01, 'kernel': 'rbf', 'random_state': 42}\n",
            "Optimized SVM Accuracy: 0.9825\n",
            "\n",
            "The best model for the Breast Cancer dataset is Optimized SVM with an accuracy of 0.9825.\n"
          ]
        }
      ]
    }
  ]
}